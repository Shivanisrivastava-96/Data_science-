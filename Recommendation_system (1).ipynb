{
 "cells": [
  {
   "cell_type": "markdown",
   "id": "625f7f4c",
   "metadata": {},
   "source": [
    "Recommendation System\n",
    "\n",
    "Data Description:\n",
    "\n",
    "Unique ID of each anime.\n",
    "Anime title.\n",
    "Anime broadcast type, such as TV, OVA, etc.\n",
    "anime genre.\n",
    "The number of episodes of each anime.\n",
    "The average rating for each anime compared to the number of users who gave ratings.\n",
    "\n",
    "\n",
    "Number of community members for each anime.\n",
    "Objective:\n",
    "The objective of this assignment is to implement a recommendation system using cosine similarity on an anime dataset. \n",
    "Dataset:\n",
    "Use the Anime Dataset which contains information about various anime, including their titles, genres,No.of episodes and user ratings etc.\n",
    "\n",
    "Tasks:\n",
    "\n",
    "Data Preprocessing:\n",
    "\n",
    "Load the dataset into a suitable data structure (e.g., pandas DataFrame).\n",
    "Handle missing values, if any.\n",
    "Explore the dataset to understand its structure and attributes.\n",
    "\n",
    "Feature Extraction:\n",
    "\n",
    "Decide on the features that will be used for computing similarity (e.g., genres, user ratings).\n",
    "Convert categorical features into numerical representations if necessary.\n",
    "Normalize numerical features if required.\n",
    "\n",
    "Recommendation System:\n",
    "\n",
    "Design a function to recommend anime based on cosine similarity.\n",
    "Given a target anime, recommend a list of similar anime based on cosine similarity scores.\n",
    "Experiment with different threshold values for similarity scores to adjust the recommendation list size.\n",
    "\n",
    "Evaluation:\n",
    "\n",
    "Split the dataset into training and testing sets.\n",
    "Evaluate the recommendation system using appropriate metrics such as precision, recall, and F1-score.\n",
    "Analyze the performance of the recommendation system and identify areas of improvement.\n"
   ]
  },
  {
   "cell_type": "code",
   "execution_count": 17,
   "id": "63017d3f",
   "metadata": {},
   "outputs": [],
   "source": [
    "# Load the dataset \n",
    "import pandas as pd \n",
    "import numpy as np \n",
    "import matplotlib.pyplot as plt\n",
    "import seaborn as sns"
   ]
  },
  {
   "cell_type": "code",
   "execution_count": 18,
   "id": "a04b6c85",
   "metadata": {},
   "outputs": [
    {
     "data": {
      "text/html": [
       "<div>\n",
       "<style scoped>\n",
       "    .dataframe tbody tr th:only-of-type {\n",
       "        vertical-align: middle;\n",
       "    }\n",
       "\n",
       "    .dataframe tbody tr th {\n",
       "        vertical-align: top;\n",
       "    }\n",
       "\n",
       "    .dataframe thead th {\n",
       "        text-align: right;\n",
       "    }\n",
       "</style>\n",
       "<table border=\"1\" class=\"dataframe\">\n",
       "  <thead>\n",
       "    <tr style=\"text-align: right;\">\n",
       "      <th></th>\n",
       "      <th>anime_id</th>\n",
       "      <th>genre</th>\n",
       "      <th>type</th>\n",
       "      <th>episodes</th>\n",
       "      <th>rating</th>\n",
       "      <th>members</th>\n",
       "    </tr>\n",
       "  </thead>\n",
       "  <tbody>\n",
       "    <tr>\n",
       "      <th>0</th>\n",
       "      <td>32281</td>\n",
       "      <td>Drama, Romance, School, Supernatural</td>\n",
       "      <td>Movie</td>\n",
       "      <td>1</td>\n",
       "      <td>9.37</td>\n",
       "      <td>200630</td>\n",
       "    </tr>\n",
       "    <tr>\n",
       "      <th>1</th>\n",
       "      <td>5114</td>\n",
       "      <td>Action, Adventure, Drama, Fantasy, Magic, Mili...</td>\n",
       "      <td>TV</td>\n",
       "      <td>64</td>\n",
       "      <td>9.26</td>\n",
       "      <td>793665</td>\n",
       "    </tr>\n",
       "    <tr>\n",
       "      <th>2</th>\n",
       "      <td>28977</td>\n",
       "      <td>Action, Comedy, Historical, Parody, Samurai, S...</td>\n",
       "      <td>TV</td>\n",
       "      <td>51</td>\n",
       "      <td>9.25</td>\n",
       "      <td>114262</td>\n",
       "    </tr>\n",
       "    <tr>\n",
       "      <th>3</th>\n",
       "      <td>9253</td>\n",
       "      <td>Sci-Fi, Thriller</td>\n",
       "      <td>TV</td>\n",
       "      <td>24</td>\n",
       "      <td>9.17</td>\n",
       "      <td>673572</td>\n",
       "    </tr>\n",
       "    <tr>\n",
       "      <th>4</th>\n",
       "      <td>9969</td>\n",
       "      <td>Action, Comedy, Historical, Parody, Samurai, S...</td>\n",
       "      <td>TV</td>\n",
       "      <td>51</td>\n",
       "      <td>9.16</td>\n",
       "      <td>151266</td>\n",
       "    </tr>\n",
       "    <tr>\n",
       "      <th>...</th>\n",
       "      <td>...</td>\n",
       "      <td>...</td>\n",
       "      <td>...</td>\n",
       "      <td>...</td>\n",
       "      <td>...</td>\n",
       "      <td>...</td>\n",
       "    </tr>\n",
       "    <tr>\n",
       "      <th>12289</th>\n",
       "      <td>9316</td>\n",
       "      <td>Hentai</td>\n",
       "      <td>OVA</td>\n",
       "      <td>1</td>\n",
       "      <td>4.15</td>\n",
       "      <td>211</td>\n",
       "    </tr>\n",
       "    <tr>\n",
       "      <th>12290</th>\n",
       "      <td>5543</td>\n",
       "      <td>Hentai</td>\n",
       "      <td>OVA</td>\n",
       "      <td>1</td>\n",
       "      <td>4.28</td>\n",
       "      <td>183</td>\n",
       "    </tr>\n",
       "    <tr>\n",
       "      <th>12291</th>\n",
       "      <td>5621</td>\n",
       "      <td>Hentai</td>\n",
       "      <td>OVA</td>\n",
       "      <td>4</td>\n",
       "      <td>4.88</td>\n",
       "      <td>219</td>\n",
       "    </tr>\n",
       "    <tr>\n",
       "      <th>12292</th>\n",
       "      <td>6133</td>\n",
       "      <td>Hentai</td>\n",
       "      <td>OVA</td>\n",
       "      <td>1</td>\n",
       "      <td>4.98</td>\n",
       "      <td>175</td>\n",
       "    </tr>\n",
       "    <tr>\n",
       "      <th>12293</th>\n",
       "      <td>26081</td>\n",
       "      <td>Hentai</td>\n",
       "      <td>Movie</td>\n",
       "      <td>1</td>\n",
       "      <td>5.46</td>\n",
       "      <td>142</td>\n",
       "    </tr>\n",
       "  </tbody>\n",
       "</table>\n",
       "<p>12294 rows × 6 columns</p>\n",
       "</div>"
      ],
      "text/plain": [
       "       anime_id                                              genre   type  \\\n",
       "0         32281               Drama, Romance, School, Supernatural  Movie   \n",
       "1          5114  Action, Adventure, Drama, Fantasy, Magic, Mili...     TV   \n",
       "2         28977  Action, Comedy, Historical, Parody, Samurai, S...     TV   \n",
       "3          9253                                   Sci-Fi, Thriller     TV   \n",
       "4          9969  Action, Comedy, Historical, Parody, Samurai, S...     TV   \n",
       "...         ...                                                ...    ...   \n",
       "12289      9316                                             Hentai    OVA   \n",
       "12290      5543                                             Hentai    OVA   \n",
       "12291      5621                                             Hentai    OVA   \n",
       "12292      6133                                             Hentai    OVA   \n",
       "12293     26081                                             Hentai  Movie   \n",
       "\n",
       "      episodes  rating  members  \n",
       "0            1    9.37   200630  \n",
       "1           64    9.26   793665  \n",
       "2           51    9.25   114262  \n",
       "3           24    9.17   673572  \n",
       "4           51    9.16   151266  \n",
       "...        ...     ...      ...  \n",
       "12289        1    4.15      211  \n",
       "12290        1    4.28      183  \n",
       "12291        4    4.88      219  \n",
       "12292        1    4.98      175  \n",
       "12293        1    5.46      142  \n",
       "\n",
       "[12294 rows x 6 columns]"
      ]
     },
     "execution_count": 18,
     "metadata": {},
     "output_type": "execute_result"
    }
   ],
   "source": [
    "anime_data=pd.read_csv(\"anime.csv\")\n",
    "anime_data=anime_data.drop([\"name\"],axis=1)\n",
    "anime_data"
   ]
  },
  {
   "cell_type": "code",
   "execution_count": 19,
   "id": "b467b4a8",
   "metadata": {},
   "outputs": [],
   "source": [
    "# Replacing the \"Unknown\" values to 0\n",
    "anime_data['episodes'].replace(\"Unknown\",0,inplace=True)\n",
    "# Sorting the data_values based on \"Anime_ID\"\n",
    "#anime_data.sort_values([\"anime_id\"],ignore_index=True)"
   ]
  },
  {
   "cell_type": "code",
   "execution_count": 20,
   "id": "694e6b1b",
   "metadata": {},
   "outputs": [
    {
     "name": "stdout",
     "output_type": "stream",
     "text": [
      "Shape of the Datasets :-(12294, 6)\n"
     ]
    },
    {
     "data": {
      "text/html": [
       "<div>\n",
       "<style scoped>\n",
       "    .dataframe tbody tr th:only-of-type {\n",
       "        vertical-align: middle;\n",
       "    }\n",
       "\n",
       "    .dataframe tbody tr th {\n",
       "        vertical-align: top;\n",
       "    }\n",
       "\n",
       "    .dataframe thead th {\n",
       "        text-align: right;\n",
       "    }\n",
       "</style>\n",
       "<table border=\"1\" class=\"dataframe\">\n",
       "  <thead>\n",
       "    <tr style=\"text-align: right;\">\n",
       "      <th></th>\n",
       "      <th>anime_id</th>\n",
       "      <th>rating</th>\n",
       "      <th>members</th>\n",
       "    </tr>\n",
       "  </thead>\n",
       "  <tbody>\n",
       "    <tr>\n",
       "      <th>count</th>\n",
       "      <td>12294.000000</td>\n",
       "      <td>12064.000000</td>\n",
       "      <td>1.229400e+04</td>\n",
       "    </tr>\n",
       "    <tr>\n",
       "      <th>mean</th>\n",
       "      <td>14058.221653</td>\n",
       "      <td>6.473902</td>\n",
       "      <td>1.807134e+04</td>\n",
       "    </tr>\n",
       "    <tr>\n",
       "      <th>std</th>\n",
       "      <td>11455.294701</td>\n",
       "      <td>1.026746</td>\n",
       "      <td>5.482068e+04</td>\n",
       "    </tr>\n",
       "    <tr>\n",
       "      <th>min</th>\n",
       "      <td>1.000000</td>\n",
       "      <td>1.670000</td>\n",
       "      <td>5.000000e+00</td>\n",
       "    </tr>\n",
       "    <tr>\n",
       "      <th>25%</th>\n",
       "      <td>3484.250000</td>\n",
       "      <td>5.880000</td>\n",
       "      <td>2.250000e+02</td>\n",
       "    </tr>\n",
       "    <tr>\n",
       "      <th>50%</th>\n",
       "      <td>10260.500000</td>\n",
       "      <td>6.570000</td>\n",
       "      <td>1.550000e+03</td>\n",
       "    </tr>\n",
       "    <tr>\n",
       "      <th>75%</th>\n",
       "      <td>24794.500000</td>\n",
       "      <td>7.180000</td>\n",
       "      <td>9.437000e+03</td>\n",
       "    </tr>\n",
       "    <tr>\n",
       "      <th>max</th>\n",
       "      <td>34527.000000</td>\n",
       "      <td>10.000000</td>\n",
       "      <td>1.013917e+06</td>\n",
       "    </tr>\n",
       "  </tbody>\n",
       "</table>\n",
       "</div>"
      ],
      "text/plain": [
       "           anime_id        rating       members\n",
       "count  12294.000000  12064.000000  1.229400e+04\n",
       "mean   14058.221653      6.473902  1.807134e+04\n",
       "std    11455.294701      1.026746  5.482068e+04\n",
       "min        1.000000      1.670000  5.000000e+00\n",
       "25%     3484.250000      5.880000  2.250000e+02\n",
       "50%    10260.500000      6.570000  1.550000e+03\n",
       "75%    24794.500000      7.180000  9.437000e+03\n",
       "max    34527.000000     10.000000  1.013917e+06"
      ]
     },
     "execution_count": 20,
     "metadata": {},
     "output_type": "execute_result"
    }
   ],
   "source": [
    "# Explore the Dataset \n",
    "print(f'Shape of the Datasets :-{anime_data.shape}')\n",
    "anime_data.describe()\n"
   ]
  },
  {
   "cell_type": "code",
   "execution_count": 21,
   "id": "75119696",
   "metadata": {},
   "outputs": [
    {
     "name": "stdout",
     "output_type": "stream",
     "text": [
      "<class 'pandas.core.frame.DataFrame'>\n",
      "RangeIndex: 12294 entries, 0 to 12293\n",
      "Data columns (total 6 columns):\n",
      " #   Column    Non-Null Count  Dtype  \n",
      "---  ------    --------------  -----  \n",
      " 0   anime_id  12294 non-null  int64  \n",
      " 1   genre     12232 non-null  object \n",
      " 2   type      12269 non-null  object \n",
      " 3   episodes  12294 non-null  object \n",
      " 4   rating    12064 non-null  float64\n",
      " 5   members   12294 non-null  int64  \n",
      "dtypes: float64(1), int64(2), object(3)\n",
      "memory usage: 576.4+ KB\n"
     ]
    }
   ],
   "source": [
    "anime_data.info()"
   ]
  },
  {
   "cell_type": "code",
   "execution_count": 22,
   "id": "ee049362",
   "metadata": {},
   "outputs": [
    {
     "data": {
      "text/plain": [
       "anime_id      0\n",
       "genre        62\n",
       "type         25\n",
       "episodes      0\n",
       "rating      230\n",
       "members       0\n",
       "dtype: int64"
      ]
     },
     "execution_count": 22,
     "metadata": {},
     "output_type": "execute_result"
    }
   ],
   "source": [
    "# Handle missing values \n",
    "anime_data.isnull().sum()"
   ]
  },
  {
   "cell_type": "code",
   "execution_count": 23,
   "id": "cf5961fe",
   "metadata": {},
   "outputs": [],
   "source": [
    "# Filling the missing values \n",
    "# Replacing the NAN values of ratings with \"0\" \n",
    "anime_data[\"rating\"].fillna(0,inplace=True)\n",
    "\n",
    "# filling the missing values with mean/median/mode\n",
    "anime_data[\"genre\"].fillna(anime_data[\"genre\"].mode()[0],inplace=True)\n",
    "anime_data[\"type\"].fillna(anime_data[\"type\"].mode()[0],inplace=True)                     "
   ]
  },
  {
   "cell_type": "code",
   "execution_count": 24,
   "id": "729bbd4f",
   "metadata": {},
   "outputs": [
    {
     "data": {
      "text/plain": [
       "anime_id    0\n",
       "genre       0\n",
       "type        0\n",
       "episodes    0\n",
       "rating      0\n",
       "members     0\n",
       "dtype: int64"
      ]
     },
     "execution_count": 24,
     "metadata": {},
     "output_type": "execute_result"
    }
   ],
   "source": [
    "# verifying missing values are left or not \n",
    "anime_data.isnull().sum()"
   ]
  },
  {
   "cell_type": "code",
   "execution_count": 25,
   "id": "b19d4bae",
   "metadata": {},
   "outputs": [
    {
     "data": {
      "text/plain": [
       "rating\n",
       "0      230\n",
       "1        2\n",
       "2       22\n",
       "3      211\n",
       "4      752\n",
       "5     2372\n",
       "6     4784\n",
       "7     3294\n",
       "8      603\n",
       "9       23\n",
       "10       1\n",
       "Name: count, dtype: int64"
      ]
     },
     "execution_count": 25,
     "metadata": {},
     "output_type": "execute_result"
    }
   ],
   "source": [
    "# converting the values of \"ratings\" (float into int) for better visualization\n",
    "anime_data[\"rating\"]=anime_data[\"rating\"].astype(int)\n",
    "# Number of ratings & counts \n",
    "anime_data['rating'].value_counts().sort_index()"
   ]
  },
  {
   "cell_type": "code",
   "execution_count": 26,
   "id": "7097027a",
   "metadata": {},
   "outputs": [
    {
     "data": {
      "text/plain": [
       "<Axes: xlabel='rating'>"
      ]
     },
     "execution_count": 26,
     "metadata": {},
     "output_type": "execute_result"
    },
    {
     "data": {
      "image/png": "[encoded data removed]",
      "text/plain": [
       "<Figure size 640x480 with 1 Axes>"
      ]
     },
     "metadata": {},
     "output_type": "display_data"
    }
   ],
   "source": [
    "# Plot the Number of ratings & counts \n",
    "anime_data['rating'].value_counts().sort_index().plot(kind='bar')"
   ]
  },
  {
   "cell_type": "code",
   "execution_count": 27,
   "id": "c8560d05",
   "metadata": {},
   "outputs": [
    {
     "data": {
      "text/plain": [
       "<Axes: xlabel='rating', ylabel='Density'>"
      ]
     },
     "execution_count": 27,
     "metadata": {},
     "output_type": "execute_result"
    },
    {
     "data": {
      "image/png": "[encoded data removed]",
      "text/plain": [
       "<Figure size 2000x800 with 1 Axes>"
      ]
     },
     "metadata": {},
     "output_type": "display_data"
    }
   ],
   "source": [
    "import warnings\n",
    "warnings.filterwarnings(\"ignore\")\n",
    "plt.figure(figsize=(20,8))\n",
    "sns.distplot(anime_data.rating)"
   ]
  },
  {
   "cell_type": "markdown",
   "id": "13e64f97",
   "metadata": {},
   "source": [
    "# Feature Extraction "
   ]
  },
  {
   "cell_type": "code",
   "execution_count": 28,
   "id": "e0e55914",
   "metadata": {},
   "outputs": [],
   "source": [
    "#We'll use genres and user ratings to compute similarity.Convert categorical features into numerical representations\n",
    "# Convert genres to numerical representations\n",
    "from sklearn.preprocessing import MultiLabelBinarizer,StandardScaler\n",
    "from sklearn.metrics.pairwise import cosine_similarity\n",
    "mlb = MultiLabelBinarizer()\n",
    "genres_encoded = mlb.fit_transform(anime_data['genre'].str.split(', '))\n",
    "genres_df = pd.DataFrame(genres_encoded, columns=mlb.classes_)\n",
    "\n",
    "# Normalize numerical features\n",
    "scaler = StandardScaler()\n",
    "anime_data['rating'] = scaler.fit_transform(anime_data[['rating']])\n",
    "\n",
    "# Combine features for similarity computation\n",
    "features_df = pd.concat([anime_data[['anime_id', 'rating']], genres_df], axis=1)\n",
    "\n",
    "# Compute cosine similarity matrix\n",
    "cosine_sim = cosine_similarity(features_df.drop('anime_id', axis=1))"
   ]
  },
  {
   "cell_type": "code",
   "execution_count": 29,
   "id": "3fd4ad53",
   "metadata": {},
   "outputs": [
    {
     "name": "stdout",
     "output_type": "stream",
     "text": [
      "      anime_id                                            genre     type  \\\n",
      "1465      4037  Action, Adventure, Comedy, Drama, Sci-Fi, Space  Special   \n",
      "1398      2203          Action, Adventure, Drama, Sci-Fi, Space       TV   \n",
      "3057      2717          Action, Adventure, Drama, Sci-Fi, Space       TV   \n",
      "1073      2202          Action, Adventure, Drama, Sci-Fi, Space    Movie   \n",
      "551        400         Action, Adventure, Comedy, Sci-Fi, Space       TV   \n",
      "\n",
      "        rating episodes  \n",
      "1465  0.838733        1  \n",
      "1398  0.838733       22  \n",
      "3057  0.838733       24  \n",
      "1073  0.838733        1  \n",
      "551   0.838733       24  \n"
     ]
    }
   ],
   "source": [
    "# function recommendation for anime \n",
    "def recommend_anime(anime_id,cosine_sim=cosine_sim,anime_data=anime_data,top_n=10,similarity_threshold=0.5):\n",
    "    try :\n",
    "        idx = anime_data.index[anime_data[\"anime_id\"]==anime_id][0]\n",
    "    except IndexError:\n",
    "        return \"Anime_id does not exist\"\n",
    "    \n",
    "    # Get the similarity scores for the given anime \n",
    "    sim_scores = cosine_sim[idx]\n",
    "    \n",
    "    # sort the anime based on similarity scores\n",
    "    sim_sort=sim_scores.argsort()[::-1]\n",
    "    \n",
    "    # Get the top n recommendation \n",
    "    top_recom=sim_sort[1:top_n+1]\n",
    "    \n",
    "    return anime_data.iloc[top_recom]\n",
    "recommendations = recommend_anime(anime_id=1, top_n=5, similarity_threshold=0.5)\n",
    "print(recommendations[['anime_id','genre','type' ,'rating','episodes']])"
   ]
  },
  {
   "cell_type": "code",
   "execution_count": 30,
   "id": "56afa20b",
   "metadata": {},
   "outputs": [
    {
     "name": "stdout",
     "output_type": "stream",
     "text": [
      "      anime_id     type                                            genre  \\\n",
      "1465      4037  Special  Action, Adventure, Comedy, Drama, Sci-Fi, Space   \n",
      "1398      2203       TV          Action, Adventure, Drama, Sci-Fi, Space   \n",
      "3057      2717       TV          Action, Adventure, Drama, Sci-Fi, Space   \n",
      "1073      2202    Movie          Action, Adventure, Drama, Sci-Fi, Space   \n",
      "551        400       TV         Action, Adventure, Comedy, Sci-Fi, Space   \n",
      "\n",
      "        rating episodes  \n",
      "1465  0.838733        1  \n",
      "1398  0.838733       22  \n",
      "3057  0.838733       24  \n",
      "1073  0.838733        1  \n",
      "551   0.838733       24  \n",
      "      anime_id     type                                            genre  \\\n",
      "1465      4037  Special  Action, Adventure, Comedy, Drama, Sci-Fi, Space   \n",
      "1398      2203       TV          Action, Adventure, Drama, Sci-Fi, Space   \n",
      "3057      2717       TV          Action, Adventure, Drama, Sci-Fi, Space   \n",
      "1073      2202    Movie          Action, Adventure, Drama, Sci-Fi, Space   \n",
      "551        400       TV         Action, Adventure, Comedy, Sci-Fi, Space   \n",
      "\n",
      "        rating episodes  \n",
      "1465  0.838733        1  \n",
      "1398  0.838733       22  \n",
      "3057  0.838733       24  \n",
      "1073  0.838733        1  \n",
      "551   0.838733       24  \n"
     ]
    }
   ],
   "source": [
    "# Experiment with Threshold Values\n",
    "# Example usage with different similarity thresholds\n",
    "recommendations = recommend_anime(anime_id=1, top_n=5, similarity_threshold=0.3)\n",
    "print(recommendations[['anime_id','type','genre', 'rating','episodes']])\n",
    "\n",
    "recommendations = recommend_anime(anime_id=1, top_n=5, similarity_threshold=0.7)\n",
    "print(recommendations[['anime_id', 'type', 'genre', 'rating','episodes']])"
   ]
  },
  {
   "cell_type": "code",
   "execution_count": null,
   "id": "bc5b2272",
   "metadata": {},
   "outputs": [],
   "source": []
  },
  {
   "cell_type": "code",
   "execution_count": null,
   "id": "0bdc2a42",
   "metadata": {},
   "outputs": [],
   "source": []
  }
 ],
 "metadata": {
  "kernelspec": {
   "display_name": "Python 3 (ipykernel)",
   "language": "python",
   "name": "python3"
  },
  "language_info": {
   "codemirror_mode": {
    "name": "ipython",
    "version": 3
   },
   "file_extension": ".py",
   "mimetype": "text/x-python",
   "name": "python",
   "nbconvert_exporter": "python",
   "pygments_lexer": "ipython3",
   "version": "3.11.5"
  }
 },
 "nbformat": 4,
 "nbformat_minor": 5
}
