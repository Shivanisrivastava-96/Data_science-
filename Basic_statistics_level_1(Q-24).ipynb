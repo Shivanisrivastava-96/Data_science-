{
 "cells": [
  {
   "cell_type": "markdown",
   "id": "64b6e045",
   "metadata": {},
   "source": [
    "Q 24)   A Government  company claims that an average light bulb lasts 270 days. A researcher randomly selects 18 bulbs for testing. The sampled bulbs last an average of 260 days, with a standard deviation of 90 days. If the CEO's claim were true, what is the probability that 18 randomly selected bulbs would have an average life of no more than 260 days"
   ]
  },
  {
   "cell_type": "code",
   "execution_count": 5,
   "id": "f38cf772",
   "metadata": {},
   "outputs": [],
   "source": [
    "Pop_mean= 270 \n",
    "n=18\n",
    "sample_mean=260\n",
    "st_dev=90\n",
    "df=n-1"
   ]
  },
  {
   "cell_type": "code",
   "execution_count": 12,
   "id": "991ae3d6",
   "metadata": {},
   "outputs": [
    {
     "data": {
      "text/plain": [
       "-0.4714045207910317"
      ]
     },
     "execution_count": 12,
     "metadata": {},
     "output_type": "execute_result"
    }
   ],
   "source": [
    "import scipy.stats as stats\n",
    "import math\n",
    "tscore=(sample_mean-Pop_mean)/(st_dev/math.sqrt(n))\n",
    "tscore"
   ]
  },
  {
   "cell_type": "code",
   "execution_count": 17,
   "id": "d70a607a",
   "metadata": {},
   "outputs": [
    {
     "data": {
      "text/plain": [
       "0.32167253567098364"
      ]
     },
     "execution_count": 17,
     "metadata": {},
     "output_type": "execute_result"
    }
   ],
   "source": [
    "stats.t.cdf(tscore,df)"
   ]
  },
  {
   "cell_type": "code",
   "execution_count": null,
   "id": "25a91cdc",
   "metadata": {},
   "outputs": [],
   "source": []
  }
 ],
 "metadata": {
  "kernelspec": {
   "display_name": "Python 3 (ipykernel)",
   "language": "python",
   "name": "python3"
  },
  "language_info": {
   "codemirror_mode": {
    "name": "ipython",
    "version": 3
   },
   "file_extension": ".py",
   "mimetype": "text/x-python",
   "name": "python",
   "nbconvert_exporter": "python",
   "pygments_lexer": "ipython3",
   "version": "3.11.5"
  }
 },
 "nbformat": 4,
 "nbformat_minor": 5
}
