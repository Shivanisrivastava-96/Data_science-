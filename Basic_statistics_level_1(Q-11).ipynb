{
 "cells": [
  {
   "cell_type": "markdown",
   "id": "6f442016",
   "metadata": {},
   "source": [
    "Q-1)Suppose we want to estimate the average weight of an adult male in Mexico. We draw a random sample of 2,000 men from a population of 3,000,000 men and weigh them. We find that the average person in our sample weighs 200 pounds, and the standard deviation of the sample is 30 pounds. Calculate 94%,98%,96% confidence interval?"
   ]
  },
  {
   "cell_type": "code",
   "execution_count": 9,
   "id": "45556792",
   "metadata": {},
   "outputs": [],
   "source": [
    "import scipy.stats as stats\n",
    "import math"
   ]
  },
  {
   "cell_type": "code",
   "execution_count": 18,
   "id": "b8661bc5",
   "metadata": {},
   "outputs": [],
   "source": [
    "# with 94% C.I\n",
    "X_bar=200\n",
    "C_I_1=0.94 \n",
    "C_I_2=0.98\n",
    "C_I_3=0.96\n",
    "st_dev=30\n",
    "n=2000"
   ]
  },
  {
   "cell_type": "code",
   "execution_count": 20,
   "id": "8b5885b2",
   "metadata": {},
   "outputs": [
    {
     "data": {
      "text/plain": [
       "0.06000000000000005"
      ]
     },
     "execution_count": 20,
     "metadata": {},
     "output_type": "execute_result"
    }
   ],
   "source": [
    "alpha_1=1-C_I_1\n",
    "alpha_1 "
   ]
  },
  {
   "cell_type": "code",
   "execution_count": 22,
   "id": "a75bd373",
   "metadata": {},
   "outputs": [
    {
     "data": {
      "text/plain": [
       "0.020000000000000018"
      ]
     },
     "execution_count": 22,
     "metadata": {},
     "output_type": "execute_result"
    }
   ],
   "source": [
    "alpha_2=1-C_I_2\n",
    "alpha_2"
   ]
  },
  {
   "cell_type": "code",
   "execution_count": 23,
   "id": "26cddc84",
   "metadata": {},
   "outputs": [
    {
     "data": {
      "text/plain": [
       "0.040000000000000036"
      ]
     },
     "execution_count": 23,
     "metadata": {},
     "output_type": "execute_result"
    }
   ],
   "source": [
    "alpha_3=1-C_I_3\n",
    "alpha_3"
   ]
  },
  {
   "cell_type": "code",
   "execution_count": 25,
   "id": "1eb2596e",
   "metadata": {},
   "outputs": [
    {
     "data": {
      "text/plain": [
       "1.8807936081512509"
      ]
     },
     "execution_count": 25,
     "metadata": {},
     "output_type": "execute_result"
    }
   ],
   "source": [
    "# critical  z value with (94% C.I)\n",
    "z1=stats.norm.ppf(1-alpha_1/2)\n",
    "z1"
   ]
  },
  {
   "cell_type": "code",
   "execution_count": 26,
   "id": "60f221d0",
   "metadata": {},
   "outputs": [],
   "source": [
    "## pop mean upper limit value with CI 94 % "
   ]
  },
  {
   "cell_type": "code",
   "execution_count": 31,
   "id": "7b91c793",
   "metadata": {},
   "outputs": [
    {
     "data": {
      "text/plain": [
       "201.261674707842"
      ]
     },
     "execution_count": 31,
     "metadata": {},
     "output_type": "execute_result"
    }
   ],
   "source": [
    "pop_mean_upper=(X_bar +(z1*(st_dev/math.sqrt(n))))\n",
    "pop_mean_upper"
   ]
  },
  {
   "cell_type": "code",
   "execution_count": 32,
   "id": "03bf1ba6",
   "metadata": {},
   "outputs": [],
   "source": [
    "## pop mean lower limit value with CI 94 % "
   ]
  },
  {
   "cell_type": "code",
   "execution_count": 33,
   "id": "704205e1",
   "metadata": {},
   "outputs": [
    {
     "data": {
      "text/plain": [
       "198.738325292158"
      ]
     },
     "execution_count": 33,
     "metadata": {},
     "output_type": "execute_result"
    }
   ],
   "source": [
    "pop_mean_lower=(X_bar - (z1*(st_dev/math.sqrt(n))))\n",
    "pop_mean_lower"
   ]
  },
  {
   "cell_type": "code",
   "execution_count": 36,
   "id": "d78f053c",
   "metadata": {},
   "outputs": [
    {
     "name": "stdout",
     "output_type": "stream",
     "text": [
      "pop mean lies between 198.738325292158 , 201.261674707842\n"
     ]
    }
   ],
   "source": [
    "print(\"pop mean lies between\",pop_mean_lower,',',pop_mean_upper)"
   ]
  },
  {
   "cell_type": "code",
   "execution_count": 37,
   "id": "0edc97f3",
   "metadata": {},
   "outputs": [
    {
     "data": {
      "text/plain": [
       "2.3263478740408408"
      ]
     },
     "execution_count": 37,
     "metadata": {},
     "output_type": "execute_result"
    }
   ],
   "source": [
    "z2=stats.norm.ppf(1-alpha_2/2)\n",
    "z2"
   ]
  },
  {
   "cell_type": "code",
   "execution_count": 38,
   "id": "6be19f02",
   "metadata": {},
   "outputs": [],
   "source": [
    "## pop mean upper limit value with CI 98 % "
   ]
  },
  {
   "cell_type": "code",
   "execution_count": 39,
   "id": "ff18dd1d",
   "metadata": {},
   "outputs": [
    {
     "data": {
      "text/plain": [
       "201.56056159570022"
      ]
     },
     "execution_count": 39,
     "metadata": {},
     "output_type": "execute_result"
    }
   ],
   "source": [
    "pop_mean_upper=(X_bar +(z2*(st_dev/math.sqrt(n))))\n",
    "pop_mean_upper"
   ]
  },
  {
   "cell_type": "code",
   "execution_count": 41,
   "id": "f4efae8c",
   "metadata": {},
   "outputs": [
    {
     "data": {
      "text/plain": [
       "198.43943840429978"
      ]
     },
     "execution_count": 41,
     "metadata": {},
     "output_type": "execute_result"
    }
   ],
   "source": [
    "pop_mean_upper=(X_bar -(z2*(st_dev/math.sqrt(n))))\n",
    "pop_mean_upper"
   ]
  },
  {
   "cell_type": "code",
   "execution_count": 42,
   "id": "2b8b4f47",
   "metadata": {},
   "outputs": [
    {
     "name": "stdout",
     "output_type": "stream",
     "text": [
      "pop mean lies between 198.738325292158 , 198.43943840429978\n"
     ]
    }
   ],
   "source": [
    "print(\"pop mean lies between\",pop_mean_lower,',',pop_mean_upper)"
   ]
  },
  {
   "cell_type": "code",
   "execution_count": 43,
   "id": "9e96c357",
   "metadata": {},
   "outputs": [
    {
     "data": {
      "text/plain": [
       "2.0537489106318225"
      ]
     },
     "execution_count": 43,
     "metadata": {},
     "output_type": "execute_result"
    }
   ],
   "source": [
    "z3=stats.norm.ppf(1-alpha_3/2)\n",
    "z3"
   ]
  },
  {
   "cell_type": "code",
   "execution_count": 44,
   "id": "6dc9eeb1",
   "metadata": {},
   "outputs": [],
   "source": [
    "## pop mean upper limit value with CI 96 % "
   ]
  },
  {
   "cell_type": "code",
   "execution_count": 47,
   "id": "79a22917",
   "metadata": {},
   "outputs": [
    {
     "data": {
      "text/plain": [
       "201.37769665186667"
      ]
     },
     "execution_count": 47,
     "metadata": {},
     "output_type": "execute_result"
    }
   ],
   "source": [
    "pop_mean_upper=(X_bar +(z3*(st_dev/math.sqrt(n))))\n",
    "pop_mean_upper"
   ]
  },
  {
   "cell_type": "code",
   "execution_count": 48,
   "id": "eed7c33b",
   "metadata": {},
   "outputs": [],
   "source": [
    "## pop mean lower limit value with CI 96 % "
   ]
  },
  {
   "cell_type": "code",
   "execution_count": 49,
   "id": "db125a69",
   "metadata": {},
   "outputs": [
    {
     "data": {
      "text/plain": [
       "198.62230334813333"
      ]
     },
     "execution_count": 49,
     "metadata": {},
     "output_type": "execute_result"
    }
   ],
   "source": [
    "pop_mean_lower=(X_bar - (z3*(st_dev/math.sqrt(n))))\n",
    "pop_mean_lower"
   ]
  },
  {
   "cell_type": "code",
   "execution_count": 50,
   "id": "1f133c43",
   "metadata": {},
   "outputs": [
    {
     "name": "stdout",
     "output_type": "stream",
     "text": [
      "pop mean lies between 198.62230334813333 , 201.37769665186667\n"
     ]
    }
   ],
   "source": [
    "print(\"pop mean lies between\",pop_mean_lower,',',pop_mean_upper)"
   ]
  },
  {
   "cell_type": "code",
   "execution_count": null,
   "id": "6489a552",
   "metadata": {},
   "outputs": [],
   "source": []
  }
 ],
 "metadata": {
  "kernelspec": {
   "display_name": "Python 3 (ipykernel)",
   "language": "python",
   "name": "python3"
  },
  "language_info": {
   "codemirror_mode": {
    "name": "ipython",
    "version": 3
   },
   "file_extension": ".py",
   "mimetype": "text/x-python",
   "name": "python",
   "nbconvert_exporter": "python",
   "pygments_lexer": "ipython3",
   "version": "3.11.5"
  }
 },
 "nbformat": 4,
 "nbformat_minor": 5
}
