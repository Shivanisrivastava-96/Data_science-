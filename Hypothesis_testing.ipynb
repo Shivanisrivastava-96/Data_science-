{
 "cells": [
  {
   "cell_type": "markdown",
   "id": "b8d34f57",
   "metadata": {},
   "source": [
    "Objective:\n",
    "To investigate the restaurant owners' claim about the increase in weekly operating costs using hypothesis testing.\n",
    "Data Provided:\n",
    "The theoretical weekly operating cost model: W = $1,000 + $5X\n",
    "Sample of 25 restaurants with a mean weekly cost of Rs. 3,050\n",
    "Number of units produced in a week (X) follows a normal distribution with a mean (μ) of 600 units and a standard deviation (σ) of 25 units\n",
    "Assignment Tasks:\n",
    "1. State the Hypotheses statement:\n",
    "2. Calculate the Test Statistic:\n",
    "Use the following formula to calculate the test statistic (t):\n",
    "where:\n",
    "ˉxˉ = sample mean weekly cost (Rs. 3,050)\n",
    "μ = theoretical mean weekly cost according to the cost model (W = $1,000 + $5X for X = 600 units)\n",
    "σ = 5*25 units\n",
    "n = sample size (25 restaurants)\n",
    "3. Determine the Critical Value:\n",
    "Using the alpha level of 5% (α = 0.05), determine the critical value from the standard normal (Z) distribution table.\n",
    "4. Make a Decision:\n",
    "Compare the test statistic with the critical value to decide whether to reject the null hypothesis.\n",
    "5. Conclusion:\n",
    "Based on the decision in step 4, conclude whether there is strong evidence to support the restaurant owners' claim that the weekly operating costs are higher than the model suggests.\n",
    "\n"
   ]
  },
  {
   "cell_type": "code",
   "execution_count": 2,
   "id": "f8c2d201",
   "metadata": {},
   "outputs": [],
   "source": [
    "# State the Hypotheses statement:\n",
    "H0=\"Weekly operating costs are higher\"\n",
    "Ha=\"Weekly operating costs are not higher\""
   ]
  },
  {
   "cell_type": "code",
   "execution_count": 17,
   "id": "626583eb",
   "metadata": {},
   "outputs": [],
   "source": [
    "#Calculate the Test Statistic \n",
    "#where: ˉxˉ = sample mean weekly cost (Rs. 3,050) μ = theoretical mean weekly cost according to the cost model (W =  1,000+\n",
    " #5X for X = 600 units) σ = 5*25 units n = sample size (25 restaurants)\n",
    "X_bar=3050 \n",
    "pop_mean=600\n",
    "n=25\n",
    "st_dev=5*25\n",
    "alpha=0.05\n",
    "df=n-1"
   ]
  },
  {
   "cell_type": "code",
   "execution_count": 18,
   "id": "6bf790ef",
   "metadata": {},
   "outputs": [
    {
     "data": {
      "text/plain": [
       "3.9200000000000004"
      ]
     },
     "execution_count": 18,
     "metadata": {},
     "output_type": "execute_result"
    }
   ],
   "source": [
    "#applying T-test as here sample is lower and pop_st_dev is not known\n",
    "import math\n",
    "test_statistic=(X_bar-pop_mean)/st_dev/math.sqrt(n)\n",
    "test_statistic"
   ]
  },
  {
   "cell_type": "code",
   "execution_count": 20,
   "id": "27c48a78",
   "metadata": {},
   "outputs": [
    {
     "data": {
      "text/plain": [
       "2.0638985616280205"
      ]
     },
     "execution_count": 20,
     "metadata": {},
     "output_type": "execute_result"
    }
   ],
   "source": [
    "#Determine the Critical Value: Using the alpha level of 5% (α = 0.05), determine the critical value from the standard normal (Z) distribution table.\n",
    "import scipy.stats as stats \n",
    "t_critical=stats.t.ppf(1-alpha/2,df)\n",
    "t_critical"
   ]
  },
  {
   "cell_type": "code",
   "execution_count": 23,
   "id": "d68d6ae0",
   "metadata": {},
   "outputs": [
    {
     "name": "stdout",
     "output_type": "stream",
     "text": [
      "Here test_statistic > t_critical, so we rejct the null hypothesis\n"
     ]
    }
   ],
   "source": [
    "#Make a Decision: Compare the test statistic with the critical value to decide whether to reject the null hypothesis.\n",
    "print(\"Here test_statistic > t_critical, so we rejct the null hypothesis\")"
   ]
  },
  {
   "cell_type": "code",
   "execution_count": null,
   "id": "21730053",
   "metadata": {},
   "outputs": [],
   "source": []
  }
 ],
 "metadata": {
  "kernelspec": {
   "display_name": "Python 3 (ipykernel)",
   "language": "python",
   "name": "python3"
  },
  "language_info": {
   "codemirror_mode": {
    "name": "ipython",
    "version": 3
   },
   "file_extension": ".py",
   "mimetype": "text/x-python",
   "name": "python",
   "nbconvert_exporter": "python",
   "pygments_lexer": "ipython3",
   "version": "3.11.5"
  }
 },
 "nbformat": 4,
 "nbformat_minor": 5
}
