{
 "cells": [
  {
   "cell_type": "markdown",
   "id": "898a07fb",
   "metadata": {},
   "source": [
    "Exercise 1: Prime Numbers\n",
    "Write a Python program that checks whether a given number is prime or not. A prime number is a natural number greater than 1 that has no positive divisors other than 1 and itself.\n"
   ]
  },
  {
   "cell_type": "code",
   "execution_count": 5,
   "id": "ed6b3712",
   "metadata": {},
   "outputs": [
    {
     "name": "stdout",
     "output_type": "stream",
     "text": [
      "Enter number:-4\n",
      "count of a number:- 1\n",
      "It is a prime number!!\n"
     ]
    }
   ],
   "source": [
    "n=int(input(\"Enter number:-\"))\n",
    "\n",
    "count=0\n",
    "if(n>1):   \n",
    "    for i in range(2,n):\n",
    "        if(n%i==0): \n",
    "       \n",
    "            count+=1\n",
    "    print(\"count of a number:-\",count)\n",
    "  \n",
    "if(n==1):\n",
    "        print('(1):-Not a prime number!!')\n",
    "elif(n==0):\n",
    "        print('Not a prime number nor a composite number!!')\n",
    "\n",
    "elif(count>1):\n",
    "     print(\"It is not a prime number!!\")\n",
    "else:\n",
    "         print(\"It is a prime number!!\")\n",
    "    "
   ]
  },
  {
   "cell_type": "code",
   "execution_count": null,
   "id": "d4674694",
   "metadata": {},
   "outputs": [],
   "source": []
  },
  {
   "cell_type": "markdown",
   "id": "1c3a2c48",
   "metadata": {},
   "source": []
  }
 ],
 "metadata": {
  "kernelspec": {
   "display_name": "Python 3 (ipykernel)",
   "language": "python",
   "name": "python3"
  },
  "language_info": {
   "codemirror_mode": {
    "name": "ipython",
    "version": 3
   },
   "file_extension": ".py",
   "mimetype": "text/x-python",
   "name": "python",
   "nbconvert_exporter": "python",
   "pygments_lexer": "ipython3",
   "version": "3.11.5"
  }
 },
 "nbformat": 4,
 "nbformat_minor": 5
}
